{
  "nbformat": 4,
  "nbformat_minor": 0,
  "metadata": {
    "colab": {
      "provenance": [],
      "authorship_tag": "ABX9TyM1VL5384JWbYRsb/6S7z1H",
      "include_colab_link": true
    },
    "kernelspec": {
      "name": "python3",
      "display_name": "Python 3"
    },
    "language_info": {
      "name": "python"
    }
  },
  "cells": [
    {
      "cell_type": "markdown",
      "metadata": {
        "id": "view-in-github",
        "colab_type": "text"
      },
      "source": [
        "<a href=\"https://colab.research.google.com/github/PrakritiNayak/Genzel-Lab-Internship-OS-Tracking/blob/main/DLC_Script.ipynb\" target=\"_parent\"><img src=\"https://colab.research.google.com/assets/colab-badge.svg\" alt=\"Open In Colab\"/></a>"
      ]
    },
    {
      "cell_type": "markdown",
      "source": [
        "# DeepLabCut pipeline (basic)\n",
        "\n",
        "#### *Italicized are optional.*"
      ],
      "metadata": {
        "id": "UQCwx9chOWj1"
      }
    },
    {
      "cell_type": "markdown",
      "source": [
        "Set Runtime as GPU"
      ],
      "metadata": {
        "id": "4lisTKrpPzcD"
      }
    },
    {
      "cell_type": "code",
      "source": [
        "!pip install deeplabcut"
      ],
      "metadata": {
        "id": "JMUUGxqiPlo6"
      },
      "execution_count": null,
      "outputs": []
    },
    {
      "cell_type": "markdown",
      "source": [
        "Click RESTART RUNTIME"
      ],
      "metadata": {
        "id": "04PrkqzsPpyI"
      }
    },
    {
      "cell_type": "markdown",
      "source": [
        "Link Github or Drive"
      ],
      "metadata": {
        "id": "Vjj2JM1t-A2g"
      }
    },
    {
      "cell_type": "code",
      "source": [
        "from google.colab import drive # mount drive\n",
        "drive.mount('/content/drive')"
      ],
      "metadata": {
        "id": "f8X2lS17_JjL"
      },
      "execution_count": null,
      "outputs": []
    },
    {
      "cell_type": "markdown",
      "source": [
        "Dependencies"
      ],
      "metadata": {
        "id": "GocQJWh0-DUC"
      }
    },
    {
      "cell_type": "code",
      "execution_count": null,
      "metadata": {
        "id": "h4TgfzUWVyTL"
      },
      "outputs": [],
      "source": [
        "import deeplabcut"
      ]
    },
    {
      "cell_type": "markdown",
      "source": [
        "Create project"
      ],
      "metadata": {
        "id": "Lpz_FZuqF2Ik"
      }
    },
    {
      "cell_type": "code",
      "source": [
        "task='Test' # name of experiment Task\n",
        "experimenter='PN' # name of experimenter\n",
        "video=['content/drive/My Drive/Genzel Intenship/Videos/'] # path of the video folder or each video\n",
        "\n",
        "path_config_file=deeplabcut.create_new_project(task,experimenter,video,copy_videos=True) # copy videos is optional but not copying creates error\n"
      ],
      "metadata": {
        "id": "qisKTjZh-Eb-"
      },
      "execution_count": null,
      "outputs": []
    },
    {
      "cell_type": "markdown",
      "source": [
        "Edit the config.yaml file that was created.\n",
        "See https://www.nature.com/articles/s41596-019-0176-0 for what can and should be edited."
      ],
      "metadata": {
        "id": "_v8ghnfsEQpy"
      }
    },
    {
      "cell_type": "markdown",
      "source": [
        "Extract frames"
      ],
      "metadata": {
        "id": "JOhtiOwHE-x1"
      }
    },
    {
      "cell_type": "code",
      "source": [
        "%matplotlib inline\n",
        "\n",
        "#AUTOMATIC:\n",
        "deeplabcut.extract_frames(path_config_file) # paremeters set in the config file: kmeans, no. of frames, etc.\n",
        "\n",
        "#AND/OR SELECT RARE EVENTS MANUALLY:\n",
        "# %gui wx\n",
        "# deeplabcut.extract_frames(path_config_file,'manual')"
      ],
      "metadata": {
        "id": "3HEVEhgdEL7k"
      },
      "execution_count": null,
      "outputs": []
    },
    {
      "cell_type": "markdown",
      "source": [
        "Label frames"
      ],
      "metadata": {
        "id": "g1r7_PYjFeqp"
      }
    },
    {
      "cell_type": "code",
      "source": [
        "# labels frames with gui\n",
        "%gui wx\n",
        "deeplabcut.label_frames(path_config_file)"
      ],
      "metadata": {
        "id": "iaxZ1FfuFSQ7"
      },
      "execution_count": null,
      "outputs": []
    },
    {
      "cell_type": "code",
      "source": [
        "# check labels\n",
        "deeplabcut.check_labels(path_config_file) #this creates a subdirectory with the frames + your labels"
      ],
      "metadata": {
        "id": "pGrHnRXtFdBv"
      },
      "execution_count": null,
      "outputs": []
    },
    {
      "cell_type": "markdown",
      "source": [
        "Train"
      ],
      "metadata": {
        "id": "65T6SEXkGCvK"
      }
    },
    {
      "cell_type": "code",
      "source": [
        "deeplabcut.create_training_dataset(path_config_file''', net_type='resnet_50', augmenter_type='imgaug''')\n",
        "# defaults anyway, can be changed through here or config file as per preference; see paper for details."
      ],
      "metadata": {
        "id": "S6xDr7GnFyTA"
      },
      "execution_count": null,
      "outputs": []
    },
    {
      "cell_type": "code",
      "source": [
        "# start training\n",
        "\n",
        "# change the display and save_iters just in case Colab takes away the GPU; can reload from a saved point.\n",
        "\n",
        "deeplabcut.train_network(path_config_file, shuffle=1, displayiters=10,saveiters=500)\n",
        "\n",
        "''' this will run until you stop it (CTRL+C), or hit \"STOP\" icon, or when it hits the end (default, 1.03M iterations) \n",
        "You will see what looks like an error message, thats's alright '''"
      ],
      "metadata": {
        "id": "PqcvkBObGnZ7"
      },
      "execution_count": null,
      "outputs": []
    },
    {
      "cell_type": "markdown",
      "source": [
        "Evaluate"
      ],
      "metadata": {
        "id": "QtpPZNAzHCp7"
      }
    },
    {
      "cell_type": "code",
      "source": [
        "%matplotlib notebook\n",
        "deeplabcut.evaluate_network(path_config_file, plotting=True)\n",
        "# saves csv file in evaluation-results folder\n",
        "# low pixel error is ideal; make sure labels are good and trained enough"
      ],
      "metadata": {
        "id": "V3CQx780HEq0"
      },
      "execution_count": null,
      "outputs": []
    },
    {
      "cell_type": "markdown",
      "source": [
        "Analyse new video"
      ],
      "metadata": {
        "id": "wzYtI-7fHFOs"
      }
    },
    {
      "cell_type": "code",
      "source": [
        "''' choose the best model from the evaluation results and specify the correct snapshot index for the variable snapshotindex in the config.yaml file. Otherwise, by default the most recent snapshot is used to analyse the video. '''\n",
        "'''The results are stored in hd5 file in the same directory where the video resides.'''\n",
        "\n",
        "videofile_path = ['video.avi','video1.avi'] # list of videos or a folder with videos to analyze\n",
        "\n",
        "deeplabcut.analyze_videos(path_config_file,videofile_path, videotype='.avi')"
      ],
      "metadata": {
        "id": "UqT4leBWHGb-"
      },
      "execution_count": null,
      "outputs": []
    },
    {
      "cell_type": "code",
      "source": [
        "# plot tragectories\n",
        "deeplabcut.plot_trajectories(path_config_file,videofile_path, videotype='.avi')\n",
        "\n",
        "'''check plot-poses file and \"plot-likelihood.png\"; might want to change the \"p-cutoff\" in the config.yaml file so only high confidnece points are plotted in the video. i.e. ~0.8 or 0.9.\n",
        "The current default is 0.4.'''"
      ],
      "metadata": {
        "id": "zEfU_2-vIfcl"
      },
      "execution_count": null,
      "outputs": []
    },
    {
      "cell_type": "markdown",
      "source": [
        "*Extract outlier frames (if evaluation results are poor)*"
      ],
      "metadata": {
        "id": "L-mOQMBDJ1H4"
      }
    },
    {
      "cell_type": "code",
      "source": [
        "#@title\n",
        "deeplabcut.extract_outlier_frames?\n",
        "# deeplabcut.extract_outlier_frames(path_config_file,['/videos/video3.avi']) # for a specific video"
      ],
      "metadata": {
        "id": "L8pCJMNWJ1e1"
      },
      "execution_count": null,
      "outputs": []
    },
    {
      "cell_type": "markdown",
      "source": [
        "*Refine the labels*"
      ],
      "metadata": {
        "id": "imcpU6IsKzjA"
      }
    },
    {
      "cell_type": "code",
      "source": [
        "%gui wx\n",
        "deeplabcut.refine_labels(path_config_file)"
      ],
      "metadata": {
        "id": "Faksw9RrKwz-"
      },
      "execution_count": null,
      "outputs": []
    },
    {
      "cell_type": "code",
      "source": [
        "# check the refined labels in gui\n",
        "# %gui wx\n",
        "# deeplabcut.label_frames(path_config_file)"
      ],
      "metadata": {
        "id": "W85k7giZLKqw"
      },
      "execution_count": null,
      "outputs": []
    },
    {
      "cell_type": "code",
      "source": [
        "# check labels\n",
        "deeplabcut.check_labels(path_config_file)"
      ],
      "metadata": {
        "id": "cYPyBbc8Lwxg"
      },
      "execution_count": null,
      "outputs": []
    },
    {
      "cell_type": "markdown",
      "source": [
        "*Merge with original data*"
      ],
      "metadata": {
        "id": "XAcHS9QpMvB5"
      }
    },
    {
      "cell_type": "code",
      "source": [
        "deeplabcut.merge_datasets(path_config_file)"
      ],
      "metadata": {
        "id": "_cl17ryMMRfw"
      },
      "execution_count": null,
      "outputs": []
    },
    {
      "cell_type": "markdown",
      "source": [
        "*New training set*"
      ],
      "metadata": {
        "id": "aWHuq_ypNBIK"
      }
    },
    {
      "cell_type": "code",
      "source": [
        "# the changes create a new iteration of training dataset. This is automatically set in the config.yaml file.\n",
        "\n",
        "deeplabcut.create_training_dataset(path_config_file)"
      ],
      "metadata": {
        "id": "6aWSPYBONrn-"
      },
      "execution_count": null,
      "outputs": []
    },
    {
      "cell_type": "markdown",
      "source": [
        "Create labelled video"
      ],
      "metadata": {
        "id": "8pIuCU0YJnCD"
      }
    },
    {
      "cell_type": "code",
      "source": [
        "# deeplabcut.create_labeled_video?\n",
        "\n",
        "deeplabcut.create_labeled_video(path_config_file,videofile_path, videotype='.avi')\n",
        "\n",
        "# many options\n",
        "'''deeplabcut.create_labeled_video(config, videos, videotype='avi', shuffle=1, trainingsetindex=0, filtered=False, save_frames=False, Frames2plot=None, delete=False, displayedbodyparts='all', codec='mp4v', outputframerate=None, destfolder=None, draw_skeleton=False, trailpoints=0, displaycropped=False)'''"
      ],
      "metadata": {
        "id": "gNuJhovOJmox"
      },
      "execution_count": null,
      "outputs": []
    },
    {
      "cell_type": "markdown",
      "source": [
        "Plot tragectories"
      ],
      "metadata": {
        "id": "Sox4aaiuO4Fw"
      }
    },
    {
      "cell_type": "code",
      "source": [
        "# plots the trajectories of all the body parts across the entire video. Each body part is identified by a unique color.\n",
        "\n",
        "%matplotlib notebook #for making interactive plots.\n",
        "deeplabcut.plot_trajectories(path_config_file,videofile_path)"
      ],
      "metadata": {
        "id": "z2exoz_uO6WU"
      },
      "execution_count": null,
      "outputs": []
    }
  ]
}